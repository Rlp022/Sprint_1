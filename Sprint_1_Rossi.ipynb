{
 "cells": [
  {
   "cell_type": "markdown",
   "id": "051840b2",
   "metadata": {},
   "source": [
    "<div style=\"border:solid blue 2px; padding: 20px\">\n",
    "  \n",
    "**Hello Rossi.**\n",
    "\n",
    "My name is Yulia, and I will be reviewing your project. \n",
    "\n",
    "You will find my comments in coloured cells marked as 'Reviewer's comment'. The cell colour will vary based on the contents - I am explaining it further below. \n",
    "\n",
    "**Note:** Please do not remove or change my comments - they will help me in my future reviews and will make the process smoother for both of us. \n",
    "\n",
    "<div class=\"alert alert-success\"; style=\"border-left: 7px solid green\">\n",
    "<b>✅ Reviewer's comment</b> \n",
    "    \n",
    "Such comment will mark efficient solutions and good ideas that can be used in other projects.\n",
    "</div>\n",
    "\n",
    "<div class=\"alert alert-warning\"; style=\"border-left: 7px solid gold\">\n",
    "<b>⚠️ Reviewer's comment</b> \n",
    "    \n",
    "The parts marked with yellow comments indicate that there is room for optimisation. Though the correction is not necessary it is good if you implement it.\n",
    "</div>\n",
    "\n",
    "<div class=\"alert alert-danger\"; style=\"border-left: 7px solid red\">\n",
    "<b>⛔️ Reviewer's comment</b> \n",
    "    \n",
    "If you see such a comment, it means that there is a problem that needs to be fixed. Please note that I won't be able to accept your project until the issue is resolved.\n",
    "</div>\n",
    "\n",
    "You are also very welcome to leave your comments / describe the corrections you've done / ask me questions, marking them with a different colour. You can use the example below: \n",
    "\n",
    "<div class=\"alert alert-info\"; style=\"border-left: 7px solid blue\">\n",
    "<b>Student's comment</b>"
   ]
  },
  {
   "cell_type": "markdown",
   "id": "21f90c89",
   "metadata": {},
   "source": [
    "<div style=\"border:solid green 2px; padding: 20px\">\n",
    "    \n",
    "<div class=\"alert alert-success\">\n",
    "<b>Review summary</b> \n",
    "    \n",
    "Rossi, thanks for submitting the project. You did a great job and it was a pleasure to review your project.\n",
    "    \n",
    "- I can see that you already know many python methods that allow to thoroughly study dataframes \n",
    "- You know how to find and remove missing values and duplicates\n",
    "- You can write your own functions, use conditional indexing and many other python methods\n",
    "    \n",
    "<div class=\"alert alert-danger\">\n",
    "\n",
    "However, there are a few critical comments that need to be corrected. You will find them in the red-coloured cells in relevant sections.\n",
    "    \n",
    "Could you please fix them and send the project back to me?\n",
    "\n",
    "\n",
    "</div>\n",
    "    \n",
    "You may also work on the yellow comments. If you have any questions please write them when you return your project. \n",
    "    \n",
    "I'll be looking forward to getting your updated notebook."
   ]
  },
  {
   "cell_type": "markdown",
   "id": "f85a80d2",
   "metadata": {},
   "source": [
    "## Basic Python - Project <a id='intro'></a>"
   ]
  },
  {
   "cell_type": "markdown",
   "id": "33eec23c",
   "metadata": {},
   "source": [
    "## Introduction <a id='intro'></a>\n",
    "In this project, you will work with data from the entertainment industry. You will study a dataset with records on movies and shows. The research will focus on the \"Golden Age\" of television, which began in 1999 with the release of *The Sopranos* and is still ongoing.\n",
    "\n",
    "The aim of this project is to investigate how the number of votes a title receives impacts its ratings. The assumption is that highly-rated shows (we will focus on TV shows, ignoring movies) released during the \"Golden Age\" of television also have the most votes."
   ]
  },
  {
   "cell_type": "markdown",
   "id": "698c59a9",
   "metadata": {},
   "source": [
    "<div class=\"alert alert-success\"; style=\"border-left: 7px solid green\">\n",
    "<b>✅ Reviewer's comment, v. 1</b> \n",
    "    \n",
    "Title and introduction are essential parts of the project. Make sure you do not forget to include it in your further projects. \n",
    "    \n",
    "It is optimal if introduction consists of:\n",
    "    \n",
    "- brief description of the situation;\n",
    "- goal of the project;\n",
    "- description of the data we are going to use.\n",
    "</div>\n"
   ]
  },
  {
   "cell_type": "markdown",
   "id": "a1262df4",
   "metadata": {},
   "source": [
    "### Stages \n",
    "Data on movies and shows is stored in the `/datasets/movies_and_shows.csv` file. There is no information about the quality of the data, so you will need to explore it before doing the analysis.\n",
    "\n",
    "First, you'll evaluate the quality of the data and see whether its issues are significant. Then, during data preprocessing, you will try to account for the most critical problems.\n",
    " \n",
    "Your project will consist of three stages:\n",
    " 1. Data overview\n",
    " 2. Data preprocessing\n",
    " 3. Data analysis"
   ]
  },
  {
   "cell_type": "markdown",
   "id": "ac0593ac",
   "metadata": {},
   "source": [
    "## Stage 1. Data overview <a id='data_review'></a>\n",
    "\n",
    "Open and explore the data."
   ]
  },
  {
   "cell_type": "markdown",
   "id": "e86ed00e",
   "metadata": {},
   "source": [
    "You'll need `pandas`, so import it."
   ]
  },
  {
   "cell_type": "code",
   "execution_count": 1,
   "id": "1727d3f8",
   "metadata": {},
   "outputs": [],
   "source": [
    "import pandas as pd\n"
   ]
  },
  {
   "cell_type": "markdown",
   "id": "598e9fd9",
   "metadata": {},
   "source": [
    "<div class=\"alert alert-success\"; style=\"border-left: 7px solid green\">\n",
    "<b>✅ Reviewer's comment, v. 1</b> \n",
    "    \n",
    "\n",
    "    \n",
    "It's a good practice to upload all necessary libraries in the first code cell, separately from datasets (so that you do not have to reload the dataset if you need to add another library). "
   ]
  },
  {
   "cell_type": "markdown",
   "id": "9821beeb",
   "metadata": {},
   "source": [
    "Read the `movies_and_shows.csv` file from the `datasets` folder and save it in the `df` variable:"
   ]
  },
  {
   "cell_type": "code",
   "execution_count": 2,
   "id": "fc5a1402",
   "metadata": {},
   "outputs": [],
   "source": [
    "df = pd.read_csv(\"/datasets/movies_and_shows.csv\")\n"
   ]
  },
  {
   "cell_type": "markdown",
   "id": "1cd0a96d",
   "metadata": {},
   "source": [
    "Print the first 10 table rows:"
   ]
  },
  {
   "cell_type": "code",
   "execution_count": 3,
   "id": "acd92001",
   "metadata": {},
   "outputs": [
    {
     "data": {
      "text/html": [
       "<div>\n",
       "<style scoped>\n",
       "    .dataframe tbody tr th:only-of-type {\n",
       "        vertical-align: middle;\n",
       "    }\n",
       "\n",
       "    .dataframe tbody tr th {\n",
       "        vertical-align: top;\n",
       "    }\n",
       "\n",
       "    .dataframe thead th {\n",
       "        text-align: right;\n",
       "    }\n",
       "</style>\n",
       "<table border=\"1\" class=\"dataframe\">\n",
       "  <thead>\n",
       "    <tr style=\"text-align: right;\">\n",
       "      <th></th>\n",
       "      <th>name</th>\n",
       "      <th>Character</th>\n",
       "      <th>r0le</th>\n",
       "      <th>TITLE</th>\n",
       "      <th>Type</th>\n",
       "      <th>release Year</th>\n",
       "      <th>genres</th>\n",
       "      <th>imdb sc0re</th>\n",
       "      <th>imdb v0tes</th>\n",
       "    </tr>\n",
       "  </thead>\n",
       "  <tbody>\n",
       "    <tr>\n",
       "      <th>0</th>\n",
       "      <td>Robert De Niro</td>\n",
       "      <td>Travis Bickle</td>\n",
       "      <td>ACTOR</td>\n",
       "      <td>Taxi Driver</td>\n",
       "      <td>MOVIE</td>\n",
       "      <td>1976</td>\n",
       "      <td>['drama', 'crime']</td>\n",
       "      <td>8.2</td>\n",
       "      <td>808582.0</td>\n",
       "    </tr>\n",
       "    <tr>\n",
       "      <th>1</th>\n",
       "      <td>Jodie Foster</td>\n",
       "      <td>Iris Steensma</td>\n",
       "      <td>ACTOR</td>\n",
       "      <td>Taxi Driver</td>\n",
       "      <td>MOVIE</td>\n",
       "      <td>1976</td>\n",
       "      <td>['drama', 'crime']</td>\n",
       "      <td>8.2</td>\n",
       "      <td>808582.0</td>\n",
       "    </tr>\n",
       "    <tr>\n",
       "      <th>2</th>\n",
       "      <td>Albert Brooks</td>\n",
       "      <td>Tom</td>\n",
       "      <td>ACTOR</td>\n",
       "      <td>Taxi Driver</td>\n",
       "      <td>MOVIE</td>\n",
       "      <td>1976</td>\n",
       "      <td>['drama', 'crime']</td>\n",
       "      <td>8.2</td>\n",
       "      <td>808582.0</td>\n",
       "    </tr>\n",
       "    <tr>\n",
       "      <th>3</th>\n",
       "      <td>Harvey Keitel</td>\n",
       "      <td>Matthew 'Sport' Higgins</td>\n",
       "      <td>ACTOR</td>\n",
       "      <td>Taxi Driver</td>\n",
       "      <td>MOVIE</td>\n",
       "      <td>1976</td>\n",
       "      <td>['drama', 'crime']</td>\n",
       "      <td>8.2</td>\n",
       "      <td>808582.0</td>\n",
       "    </tr>\n",
       "    <tr>\n",
       "      <th>4</th>\n",
       "      <td>Cybill Shepherd</td>\n",
       "      <td>Betsy</td>\n",
       "      <td>ACTOR</td>\n",
       "      <td>Taxi Driver</td>\n",
       "      <td>MOVIE</td>\n",
       "      <td>1976</td>\n",
       "      <td>['drama', 'crime']</td>\n",
       "      <td>8.2</td>\n",
       "      <td>808582.0</td>\n",
       "    </tr>\n",
       "    <tr>\n",
       "      <th>5</th>\n",
       "      <td>Peter Boyle</td>\n",
       "      <td>Wizard</td>\n",
       "      <td>ACTOR</td>\n",
       "      <td>Taxi Driver</td>\n",
       "      <td>MOVIE</td>\n",
       "      <td>1976</td>\n",
       "      <td>['drama', 'crime']</td>\n",
       "      <td>8.2</td>\n",
       "      <td>808582.0</td>\n",
       "    </tr>\n",
       "    <tr>\n",
       "      <th>6</th>\n",
       "      <td>Leonard Harris</td>\n",
       "      <td>Senator Charles Palantine</td>\n",
       "      <td>ACTOR</td>\n",
       "      <td>Taxi Driver</td>\n",
       "      <td>MOVIE</td>\n",
       "      <td>1976</td>\n",
       "      <td>['drama', 'crime']</td>\n",
       "      <td>8.2</td>\n",
       "      <td>808582.0</td>\n",
       "    </tr>\n",
       "    <tr>\n",
       "      <th>7</th>\n",
       "      <td>Diahnne Abbott</td>\n",
       "      <td>Concession Girl</td>\n",
       "      <td>ACTOR</td>\n",
       "      <td>Taxi Driver</td>\n",
       "      <td>MOVIE</td>\n",
       "      <td>1976</td>\n",
       "      <td>['drama', 'crime']</td>\n",
       "      <td>8.2</td>\n",
       "      <td>808582.0</td>\n",
       "    </tr>\n",
       "    <tr>\n",
       "      <th>8</th>\n",
       "      <td>Gino Ardito</td>\n",
       "      <td>Policeman at Rally</td>\n",
       "      <td>ACTOR</td>\n",
       "      <td>Taxi Driver</td>\n",
       "      <td>MOVIE</td>\n",
       "      <td>1976</td>\n",
       "      <td>['drama', 'crime']</td>\n",
       "      <td>8.2</td>\n",
       "      <td>808582.0</td>\n",
       "    </tr>\n",
       "    <tr>\n",
       "      <th>9</th>\n",
       "      <td>Martin Scorsese</td>\n",
       "      <td>Passenger Watching Silhouette</td>\n",
       "      <td>ACTOR</td>\n",
       "      <td>Taxi Driver</td>\n",
       "      <td>MOVIE</td>\n",
       "      <td>1976</td>\n",
       "      <td>['drama', 'crime']</td>\n",
       "      <td>8.2</td>\n",
       "      <td>808582.0</td>\n",
       "    </tr>\n",
       "  </tbody>\n",
       "</table>\n",
       "</div>"
      ],
      "text/plain": [
       "              name                      Character   r0le        TITLE   Type  \\\n",
       "0   Robert De Niro                  Travis Bickle  ACTOR  Taxi Driver  MOVIE   \n",
       "1     Jodie Foster                  Iris Steensma  ACTOR  Taxi Driver  MOVIE   \n",
       "2    Albert Brooks                            Tom  ACTOR  Taxi Driver  MOVIE   \n",
       "3    Harvey Keitel        Matthew 'Sport' Higgins  ACTOR  Taxi Driver  MOVIE   \n",
       "4  Cybill Shepherd                          Betsy  ACTOR  Taxi Driver  MOVIE   \n",
       "5      Peter Boyle                         Wizard  ACTOR  Taxi Driver  MOVIE   \n",
       "6   Leonard Harris      Senator Charles Palantine  ACTOR  Taxi Driver  MOVIE   \n",
       "7   Diahnne Abbott                Concession Girl  ACTOR  Taxi Driver  MOVIE   \n",
       "8      Gino Ardito             Policeman at Rally  ACTOR  Taxi Driver  MOVIE   \n",
       "9  Martin Scorsese  Passenger Watching Silhouette  ACTOR  Taxi Driver  MOVIE   \n",
       "\n",
       "   release Year              genres  imdb sc0re  imdb v0tes  \n",
       "0          1976  ['drama', 'crime']         8.2    808582.0  \n",
       "1          1976  ['drama', 'crime']         8.2    808582.0  \n",
       "2          1976  ['drama', 'crime']         8.2    808582.0  \n",
       "3          1976  ['drama', 'crime']         8.2    808582.0  \n",
       "4          1976  ['drama', 'crime']         8.2    808582.0  \n",
       "5          1976  ['drama', 'crime']         8.2    808582.0  \n",
       "6          1976  ['drama', 'crime']         8.2    808582.0  \n",
       "7          1976  ['drama', 'crime']         8.2    808582.0  \n",
       "8          1976  ['drama', 'crime']         8.2    808582.0  \n",
       "9          1976  ['drama', 'crime']         8.2    808582.0  "
      ]
     },
     "execution_count": 3,
     "metadata": {},
     "output_type": "execute_result"
    }
   ],
   "source": [
    "df.head(10)\n"
   ]
  },
  {
   "cell_type": "markdown",
   "id": "e579aa91",
   "metadata": {},
   "source": [
    "Obtain the general information about the table with one command:"
   ]
  },
  {
   "cell_type": "code",
   "execution_count": 4,
   "id": "7bf66d2a",
   "metadata": {},
   "outputs": [
    {
     "name": "stdout",
     "output_type": "stream",
     "text": [
      "<class 'pandas.core.frame.DataFrame'>\n",
      "RangeIndex: 85579 entries, 0 to 85578\n",
      "Data columns (total 9 columns):\n",
      " #   Column        Non-Null Count  Dtype  \n",
      "---  ------        --------------  -----  \n",
      " 0      name       85579 non-null  object \n",
      " 1   Character     85579 non-null  object \n",
      " 2   r0le          85579 non-null  object \n",
      " 3   TITLE         85578 non-null  object \n",
      " 4     Type        85579 non-null  object \n",
      " 5   release Year  85579 non-null  int64  \n",
      " 6   genres        85579 non-null  object \n",
      " 7   imdb sc0re    80970 non-null  float64\n",
      " 8   imdb v0tes    80853 non-null  float64\n",
      "dtypes: float64(2), int64(1), object(6)\n",
      "memory usage: 5.9+ MB\n"
     ]
    }
   ],
   "source": [
    "df.info()\n"
   ]
  },
  {
   "cell_type": "markdown",
   "id": "2a47e076",
   "metadata": {},
   "source": [
    "<div class=\"alert alert-success\"; style=\"border-left: 7px solid green\">\n",
    "<b>✅ Reviewer's comment, v. 1</b> \n",
    "    \n",
    "Great - you've used a comprehensive set of methods to have a first look at the data."
   ]
  },
  {
   "cell_type": "markdown",
   "id": "e91f62a7",
   "metadata": {},
   "source": [
    "The table contains nine columns. The majority store the same data type: object. The only exceptions are `'release Year'` (int64 type), `'imdb sc0re'` (float64 type) and `'imdb v0tes'` (float64 type). Scores and votes will be used in our analysis, so it's important to verify that they are present in the dataframe in the appropriate numeric format. Three columns (`'TITLE'`, `'imdb sc0re'` and `'imdb v0tes'`) have missing values.\n",
    "\n",
    "According to the documentation:\n",
    "- `'name'` — actor/director's name and last name\n",
    "- `'Character'` — character played (for actors)\n",
    "- `'r0le '` — the person's contribution to the title (it can be in the capacity of either actor or director)\n",
    "- `'TITLE '` — title of the movie (show)\n",
    "- `'  Type'` — show or movie\n",
    "- `'release Year'` — year when movie (show) was released\n",
    "- `'genres'` — list of genres under which the movie (show) falls\n",
    "- `'imdb sc0re'` — score on IMDb\n",
    "- `'imdb v0tes'` — votes on IMDb\n",
    "\n",
    "We can see three issues with the column names:\n",
    "1. Some names are uppercase, while others are lowercase.\n",
    "2. There are names containing whitespace.\n",
    "3. A few column names have digit '0' instead of letter 'o'. \n"
   ]
  },
  {
   "cell_type": "markdown",
   "id": "605d8e5e",
   "metadata": {},
   "source": [
    "<div class=\"alert alert-success\"; style=\"border-left: 7px solid green\">\n",
    "<b>✅ Reviewer's comment, v. 1</b> \n",
    "    \n",
    "\n",
    "\n",
    "Please note that in the next python projects you need to comment your actions, write your observations and insights. \n",
    "    \n",
    "You need to use Markdown type of cells for that. To change the cell type for Markdown please use the upper navigation bar - create a new cell with `+` button, step on it and change Raw to Markdown in the dropdown menu."
   ]
  },
  {
   "cell_type": "markdown",
   "id": "4355de7b",
   "metadata": {},
   "source": [
    "### Conclusions <a id='data_review_conclusions'></a> \n",
    "\n",
    "Each row in the table stores data about a movie or show. The columns can be divided into two categories: the first is about the roles held by different people who worked on the movie or show (role, name of the actor or director, and character if the row is about an actor); the second category is information about the movie or show itself (title, release year, genre, imdb figures).\n",
    "\n",
    "It's clear that there is sufficient data to do the analysis and evaluate our assumption. However, to move forward, we need to preprocess the data."
   ]
  },
  {
   "cell_type": "markdown",
   "id": "081c5e96",
   "metadata": {},
   "source": [
    "<div class=\"alert alert-success\"; style=\"border-left: 7px solid green\">\n",
    "<b>✅ Reviewer's comment, v. 1</b> \n",
    "    \n",
    "Please note that it is highly recommended to add a conclusion / summary after each section and describe briefly your observations and / or major outcomes of the analysis."
   ]
  },
  {
   "cell_type": "markdown",
   "id": "c5dc9111",
   "metadata": {},
   "source": [
    "## Stage 2. Data preprocessing <a id='data_preprocessing'></a>\n",
    "Correct the formatting in the column headers and deal with the missing values. Then, check whether there are duplicates in the data."
   ]
  },
  {
   "cell_type": "code",
   "execution_count": 5,
   "id": "9c850d13",
   "metadata": {},
   "outputs": [
    {
     "name": "stdout",
     "output_type": "stream",
     "text": [
      "Column names in the DataFrame:\n",
      "['   name', 'Character', 'r0le', 'TITLE', '  Type', 'release Year', 'genres', 'imdb sc0re', 'imdb v0tes']\n"
     ]
    }
   ],
   "source": [
    "print(\"Column names in the DataFrame:\")\n",
    "print(df.columns.tolist())"
   ]
  },
  {
   "cell_type": "markdown",
   "id": "5f966df9",
   "metadata": {},
   "source": [
    "Change the column names according to the rules of good style:\n",
    "* If the name has several words, use snake_case\n",
    "* All characters must be lowercase\n",
    "* Remove whitespace\n",
    "* Replace zero with letter 'o'"
   ]
  },
  {
   "cell_type": "code",
   "execution_count": 6,
   "id": "23a1dc11",
   "metadata": {},
   "outputs": [],
   "source": [
    "df = df.rename(columns={'   name': 'name', 'Character':'character', 'r0le': 'role', '  Type': 'type', 'TITLE':'title', 'release Year':'release_year', 'imdb sc0re':'imdb_score', 'imdb v0tes':'imdb_votes'} )\n",
    "    \n",
    "\n"
   ]
  },
  {
   "cell_type": "markdown",
   "id": "941c37d3",
   "metadata": {},
   "source": [
    "<div class=\"alert alert-success\"; style=\"border-left: 7px solid green\">\n",
    "<b>✅ Reviewer's comment, v. 1</b> \n",
    "    \n",
    "This is a good way to rename the columns. And you've set proper names, in line with Python naming convention."
   ]
  },
  {
   "cell_type": "markdown",
   "id": "464fbd04",
   "metadata": {},
   "source": [
    "Check the result. Print the names of the columns once more:"
   ]
  },
  {
   "cell_type": "code",
   "execution_count": 7,
   "id": "0eb6527f",
   "metadata": {},
   "outputs": [
    {
     "name": "stdout",
     "output_type": "stream",
     "text": [
      "['name', 'character', 'role', 'title', 'type', 'release_year', 'genres', 'imdb_score', 'imdb_votes']\n"
     ]
    }
   ],
   "source": [
    "print(df.columns.tolist())\n"
   ]
  },
  {
   "cell_type": "markdown",
   "id": "14d9c319",
   "metadata": {},
   "source": [
    "### Missing values <a id='missing_values'></a>\n",
    "First, find the number of missing values in the table. To do so, combine two `pandas` methods:"
   ]
  },
  {
   "cell_type": "code",
   "execution_count": 8,
   "id": "21c427f2",
   "metadata": {},
   "outputs": [
    {
     "name": "stdout",
     "output_type": "stream",
     "text": [
      "name               0\n",
      "character          0\n",
      "role               0\n",
      "title              1\n",
      "type               0\n",
      "release_year       0\n",
      "genres             0\n",
      "imdb_score      4609\n",
      "imdb_votes      4726\n",
      "dtype: int64\n"
     ]
    }
   ],
   "source": [
    "missing_values_count = df.isnull().sum()\n",
    "print(missing_values_count)"
   ]
  },
  {
   "cell_type": "markdown",
   "id": "c8272df3",
   "metadata": {},
   "source": [
    "Not all missing values affect the research: the single missing value in `'title'` is not critical. The missing values in columns `'imdb_score'` and `'imdb_votes'` represent around 6% of all records (4,609 and 4,726, respectively, of the total 85,579). This could potentially affect our research. To avoid this issue, we will drop rows with missing values in the `'imdb_score'` and `'imdb_votes'` columns."
   ]
  },
  {
   "cell_type": "code",
   "execution_count": 9,
   "id": "599d5550",
   "metadata": {},
   "outputs": [],
   "source": [
    "df.dropna(subset=['title', 'imdb_score', 'imdb_votes'], inplace=True)\n"
   ]
  },
  {
   "cell_type": "markdown",
   "id": "2156887f",
   "metadata": {},
   "source": [
    "Make sure the table doesn't contain any more missing values. Count the missing values again."
   ]
  },
  {
   "cell_type": "code",
   "execution_count": 10,
   "id": "55c0b0ce",
   "metadata": {},
   "outputs": [
    {
     "name": "stdout",
     "output_type": "stream",
     "text": [
      "name            0\n",
      "character       0\n",
      "role            0\n",
      "title           0\n",
      "type            0\n",
      "release_year    0\n",
      "genres          0\n",
      "imdb_score      0\n",
      "imdb_votes      0\n",
      "dtype: int64\n"
     ]
    }
   ],
   "source": [
    "missing_values_count = df.isnull().sum()\n",
    "print(missing_values_count)\n"
   ]
  },
  {
   "cell_type": "markdown",
   "id": "9f599093",
   "metadata": {},
   "source": [
    "<div class=\"alert alert-success\"; style=\"border-left: 7px solid green\">\n",
    "<b>✅ Reviewer's comment, v. 1</b> \n",
    "    \n",
    "Well done, you've found and removed all the missing values."
   ]
  },
  {
   "cell_type": "markdown",
   "id": "a7dc7aa0",
   "metadata": {},
   "source": [
    "### Duplicates <a id='duplicates'></a>\n",
    "Find the number of duplicate rows in the table using one command:"
   ]
  },
  {
   "cell_type": "code",
   "execution_count": 11,
   "id": "9227df01",
   "metadata": {},
   "outputs": [
    {
     "name": "stdout",
     "output_type": "stream",
     "text": [
      "Number of duplicate rows: 6994\n"
     ]
    }
   ],
   "source": [
    "duplicate_rows = df.duplicated().sum()\n",
    "print(\"Number of duplicate rows:\", duplicate_rows)\n"
   ]
  },
  {
   "cell_type": "markdown",
   "id": "5f6eb0fc",
   "metadata": {},
   "source": [
    "Review the duplicate rows to determine if removing them would distort our dataset."
   ]
  },
  {
   "cell_type": "code",
   "execution_count": 12,
   "id": "bcf32fcb",
   "metadata": {},
   "outputs": [
    {
     "name": "stdout",
     "output_type": "stream",
     "text": [
      "Duplicate Rows:\n",
      "                      name                  character      role  \\\n",
      "7560         Philip Greene  Baseball Fan (uncredited)     ACTOR   \n",
      "7561         Philip Greene  Baseball Fan (uncredited)     ACTOR   \n",
      "14502             Dan Levy                   Reporter     ACTOR   \n",
      "14512             Dan Levy                   Reporter     ACTOR   \n",
      "18951     Nicolas Le Nev??                    unknown  DIRECTOR   \n",
      "...                    ...                        ...       ...   \n",
      "85569       Jessica Cediel            Liliana Navarro     ACTOR   \n",
      "85570  Javier Gardeaz?­bal   Agust??n \"Peluca\" Ort??z     ACTOR   \n",
      "85571        Carla Giraldo             Valery Reinoso     ACTOR   \n",
      "85572  Ana Mar??a S?­nchez                    Lourdes     ACTOR   \n",
      "85577         Isabel Gaona                     Cacica     ACTOR   \n",
      "\n",
      "                                 title   type  release_year  \\\n",
      "7560                   How Do You Know  MOVIE          2010   \n",
      "7561                   How Do You Know  MOVIE          2010   \n",
      "14502  A Very Harold & Kumar Christmas  MOVIE          2011   \n",
      "14512  A Very Harold & Kumar Christmas  MOVIE          2011   \n",
      "18951                       Sammy & Co   SHOW          2014   \n",
      "...                                ...    ...           ...   \n",
      "85569                          Lokillo  MOVIE          2021   \n",
      "85570                          Lokillo  MOVIE          2021   \n",
      "85571                          Lokillo  MOVIE          2021   \n",
      "85572                          Lokillo  MOVIE          2021   \n",
      "85577                          Lokillo  MOVIE          2021   \n",
      "\n",
      "                                 genres  imdb_score  imdb_votes  \n",
      "7560     ['comedy', 'drama', 'romance']         5.4     50383.0  \n",
      "7561     ['comedy', 'drama', 'romance']         5.4     50383.0  \n",
      "14502  ['comedy', 'fantasy', 'romance']         6.2     69562.0  \n",
      "14512  ['comedy', 'fantasy', 'romance']         6.2     69562.0  \n",
      "18951         ['animation', 'european']         5.7        31.0  \n",
      "...                                 ...         ...         ...  \n",
      "85569                        ['comedy']         3.8        68.0  \n",
      "85570                        ['comedy']         3.8        68.0  \n",
      "85571                        ['comedy']         3.8        68.0  \n",
      "85572                        ['comedy']         3.8        68.0  \n",
      "85577                        ['comedy']         3.8        68.0  \n",
      "\n",
      "[13988 rows x 9 columns]\n"
     ]
    }
   ],
   "source": [
    "duplicate_rows = df[df.duplicated(keep=False)]\n",
    "print(\"Duplicate Rows:\")\n",
    "print(duplicate_rows)"
   ]
  },
  {
   "cell_type": "markdown",
   "id": "b7332930",
   "metadata": {},
   "source": [
    "<div class=\"alert alert-warning\"; style=\"border-left: 7px solid gold\">\n",
    "<b>⚠️ Reviewer's comment, v. 1</b> \n",
    "\n",
    "Some dataframes can be quite big and reading the whole dataframe to display it might take significant resources. \n",
    "    \n",
    "A more optimal way to check the contents of dataframes is using `head()`, `tail()` or `sample()` method. The first will display 5 first lines, the second one - 5 last lines, and `sample()` - a random line. You may specify a different number of lines you want to be displayed in the parentheses."
   ]
  },
  {
   "cell_type": "markdown",
   "id": "a1ed6640",
   "metadata": {},
   "source": [
    "There are two clear duplicates in the printed rows. We can safely remove them.\n",
    "Call the `pandas` method for getting rid of duplicate rows:"
   ]
  },
  {
   "cell_type": "code",
   "execution_count": 13,
   "id": "724d5bc8",
   "metadata": {},
   "outputs": [],
   "source": [
    "df.drop_duplicates(inplace=True)\n"
   ]
  },
  {
   "cell_type": "markdown",
   "id": "fc8c77ba",
   "metadata": {},
   "source": [
    "Check for duplicate rows once more to make sure you have removed all of them:"
   ]
  },
  {
   "cell_type": "code",
   "execution_count": 14,
   "id": "8091a9bc",
   "metadata": {},
   "outputs": [
    {
     "name": "stdout",
     "output_type": "stream",
     "text": [
      "0\n"
     ]
    }
   ],
   "source": [
    "print(df.duplicated().sum())\n"
   ]
  },
  {
   "cell_type": "markdown",
   "id": "3866b8a8",
   "metadata": {},
   "source": [
    "<div class=\"alert alert-success\"; style=\"border-left: 7px solid green\">\n",
    "<b>✅ Reviewer's comment, v. 1</b> \n",
    "    \n",
    "Well done."
   ]
  },
  {
   "cell_type": "markdown",
   "id": "1d802b07",
   "metadata": {},
   "source": [
    "Now get rid of implicit duplicates in the `'type'` column. For example, the string `'SHOW'` can be written in different ways. These kinds of errors will also affect the result."
   ]
  },
  {
   "cell_type": "markdown",
   "id": "d5f987ed",
   "metadata": {},
   "source": [
    "Print a list of unique `'type'` names, sorted in alphabetical order. To do so:\n",
    "* Retrieve the intended dataframe column \n",
    "* Apply a sorting method to it\n",
    "* For the sorted column, call the method that will return all unique column values"
   ]
  },
  {
   "cell_type": "code",
   "execution_count": 15,
   "id": "3d7b0ac5",
   "metadata": {},
   "outputs": [
    {
     "name": "stdout",
     "output_type": "stream",
     "text": [
      "Unique 'type' names sorted in alphabetical order:\n",
      "MOVIE\n",
      "SHOW\n",
      "movies\n",
      "shows\n",
      "the movie\n",
      "tv\n",
      "tv series\n",
      "tv show\n",
      "tv shows\n"
     ]
    }
   ],
   "source": [
    "types_column = df['type']\n",
    "sorted_types = types_column.sort_values()\n",
    "unique_sorted_types = sorted_types.unique()\n",
    "print(\"Unique 'type' names sorted in alphabetical order:\")\n",
    "for t in unique_sorted_types:\n",
    "    print(t)"
   ]
  },
  {
   "cell_type": "markdown",
   "id": "ac6e8b18",
   "metadata": {},
   "source": [
    "Look through the list to find implicit duplicates of `'show'` (`'movie'` duplicates will be ignored since the assumption is about shows). These could be names written incorrectly or alternative names of the same genre.\n",
    "\n",
    "You will see the following implicit duplicates:\n",
    "* `'shows'`\n",
    "* `'SHOW'`\n",
    "* `'tv show'`\n",
    "* `'tv shows'`\n",
    "* `'tv series'`\n",
    "* `'tv'`\n",
    "\n",
    "To get rid of them, declare the function `replace_wrong_show()` with two parameters: \n",
    "* `wrong_shows_list=` — the list of duplicates\n",
    "* `correct_show=` — the string with the correct value\n",
    "\n",
    "The function should correct the names in the `'type'` column from the `df` table (i.e., replace each value from the `wrong_shows_list` list with the value in `correct_show`)."
   ]
  },
  {
   "cell_type": "code",
   "execution_count": 16,
   "id": "bff944f9",
   "metadata": {},
   "outputs": [],
   "source": [
    "def replace_wrong_show(wrong_shows_list, correct_show):\n",
    "    for wrong_show in wrong_shows_list:\n",
    "        df['type'] = df['type'].replace(wrong_show, correct_show)\n"
   ]
  },
  {
   "cell_type": "markdown",
   "id": "d02d13a6",
   "metadata": {},
   "source": [
    "Call `replace_wrong_show()` and pass it arguments so that it clears implicit duplicates and replaces them with `SHOW`:"
   ]
  },
  {
   "cell_type": "code",
   "execution_count": 17,
   "id": "a2217e53",
   "metadata": {},
   "outputs": [],
   "source": [
    "replace_wrong_show(['shows', 'tv show', 'tv shows', 'tv series', 'tv'], 'SHOW')\n"
   ]
  },
  {
   "cell_type": "markdown",
   "id": "7ee47b43",
   "metadata": {},
   "source": [
    "<div class=\"alert alert-success\"; style=\"border-left: 7px solid green\">\n",
    "<b>✅ Reviewer's comment, v. 1</b> \n",
    "    \n",
    "You wrote an excellent function and removed the implicit duplicates."
   ]
  },
  {
   "cell_type": "markdown",
   "id": "318b09f7",
   "metadata": {},
   "source": [
    "Make sure the duplicate names are removed. Print the list of unique values from the `'type'` column:"
   ]
  },
  {
   "cell_type": "code",
   "execution_count": 18,
   "id": "25d49d73",
   "metadata": {},
   "outputs": [
    {
     "name": "stdout",
     "output_type": "stream",
     "text": [
      "['MOVIE' 'SHOW' 'movies' 'the movie']\n"
     ]
    }
   ],
   "source": [
    "unique_types = df['type'].sort_values().unique()\n",
    "print(unique_types)\n"
   ]
  },
  {
   "cell_type": "markdown",
   "id": "18b2049e",
   "metadata": {},
   "source": [
    "### Conclusions <a id='data_preprocessing_conclusions'></a>\n",
    "We detected three issues with the data:\n",
    "\n",
    "- Incorrect header styles\n",
    "- Missing values\n",
    "- Duplicate rows and implicit duplicates\n",
    "\n",
    "The headers have been cleaned up to make processing the table simpler.\n",
    "\n",
    "All rows with missing values have been removed. \n",
    "\n",
    "The absence of duplicates will make the results more precise and easier to understand.\n",
    "\n",
    "Now we can move on to our analysis of the prepared data."
   ]
  },
  {
   "cell_type": "markdown",
   "id": "1aa0f1b1",
   "metadata": {},
   "source": [
    "## Stage 3. Data analysis <a id='hypotheses'></a>"
   ]
  },
  {
   "cell_type": "markdown",
   "id": "f8fb6a0e",
   "metadata": {},
   "source": [
    "Based on the previous project stages, you can now define how the assumption will be checked. Calculate the average amount of votes for each score (this data is available in the `imdb_score` and `imdb_votes` columns), and then check how these averages relate to each other. If the averages for shows with the highest scores are bigger than those for shows with lower scores, the assumption appears to be true.\n",
    "\n",
    "Based on this, complete the following steps:\n",
    "\n",
    "- Filter the dataframe to only include shows released in 1999 or later.\n",
    "- Group scores into buckets by rounding the values of the appropriate column (a set of 1-10 integers will help us make the outcome of our calculations more evident without damaging the quality of our research).\n",
    "- Identify outliers among scores based on their number of votes, and exclude scores with few votes.\n",
    "- Calculate the average votes for each score and check whether the assumption matches the results."
   ]
  },
  {
   "cell_type": "markdown",
   "id": "0ea2cb51",
   "metadata": {},
   "source": [
    "To filter the dataframe and only include shows released in 1999 or later, you will take two steps. First, keep only titles published in 1999 or later in our dataframe. Then, filter the table to only contain shows (movies will be removed)."
   ]
  },
  {
   "cell_type": "code",
   "execution_count": 19,
   "id": "6a704aa1",
   "metadata": {},
   "outputs": [
    {
     "name": "stdout",
     "output_type": "stream",
     "text": [
      "                      name                character      role      title  \\\n",
      "1664           Jeff Probst           Himself - Host     ACTOR   Survivor   \n",
      "2076         Mayumi Tanaka  Monkey D. Luffy (voice)     ACTOR  One Piece   \n",
      "2077          Kazuya Nakai     Roronoa Zoro (voice)     ACTOR  One Piece   \n",
      "2078         Akemi Okamura             Nami (voice)     ACTOR  One Piece   \n",
      "2079      Kappei Yamaguchi            Usopp (voice)     ACTOR  One Piece   \n",
      "...                    ...                      ...       ...        ...   \n",
      "85433     Maneerat Kam-Uan                       Ae     ACTOR  Let's Eat   \n",
      "85434    Rudklao Amratisha                  unknown     ACTOR  Let's Eat   \n",
      "85435      Jaturong Mokjok                  unknown     ACTOR  Let's Eat   \n",
      "85436     Pisamai Wilaisak                  unknown     ACTOR  Let's Eat   \n",
      "85437  Sarawut Wichiensarn                  unknown  DIRECTOR  Let's Eat   \n",
      "\n",
      "       type  release_year                                             genres  \\\n",
      "1664   SHOW          2000                                        ['reality']   \n",
      "2076   SHOW          1999  ['animation', 'action', 'comedy', 'drama', 'fa...   \n",
      "2077   SHOW          1999  ['animation', 'action', 'comedy', 'drama', 'fa...   \n",
      "2078   SHOW          1999  ['animation', 'action', 'comedy', 'drama', 'fa...   \n",
      "2079   SHOW          1999  ['animation', 'action', 'comedy', 'drama', 'fa...   \n",
      "...     ...           ...                                                ...   \n",
      "85433  SHOW          2021                                ['drama', 'comedy']   \n",
      "85434  SHOW          2021                                ['drama', 'comedy']   \n",
      "85435  SHOW          2021                                ['drama', 'comedy']   \n",
      "85436  SHOW          2021                                ['drama', 'comedy']   \n",
      "85437  SHOW          2021                                ['drama', 'comedy']   \n",
      "\n",
      "       imdb_score  imdb_votes  \n",
      "1664          7.4     24687.0  \n",
      "2076          8.8    117129.0  \n",
      "2077          8.8    117129.0  \n",
      "2078          8.8    117129.0  \n",
      "2079          8.8    117129.0  \n",
      "...           ...         ...  \n",
      "85433         8.2         5.0  \n",
      "85434         8.2         5.0  \n",
      "85435         8.2         5.0  \n",
      "85436         8.2         5.0  \n",
      "85437         8.2         5.0  \n",
      "\n",
      "[13430 rows x 9 columns]\n"
     ]
    }
   ],
   "source": [
    "# using conditional indexing modify df so it has only titles released after 1999 (with 1999 included)\n",
    "# give the slice of dataframe new name\n",
    "df_1999_or_later = df[df['release_year'] >= 1999]\n",
    "shows_1999_or_later = df_1999_or_later[df_1999_or_later['type'] == 'SHOW']\n",
    "print(shows_1999_or_later)"
   ]
  },
  {
   "cell_type": "markdown",
   "id": "ba2d8c4f",
   "metadata": {},
   "source": [
    "<div class=\"alert alert-success\"; style=\"border-left: 7px solid green\">\n",
    "<b>✅ Reviewer's comment, v. 1</b> \n",
    "    \n",
    "Excellent application of conditional indexing."
   ]
  },
  {
   "cell_type": "markdown",
   "id": "19c485ae",
   "metadata": {},
   "source": [
    "<div class=\"alert alert-warning\"; style=\"border-left: 7px solid gold\">\n",
    "<b>⚠️ Reviewer's comment, v. 1</b> \n",
    "\n",
    "The `print()` function is not good for displaying dataframes in Jupyter notebook. \n",
    "    \n",
    "Sometimes you don't need any function to display a dataframe, for example, if you are calling it in the last line of a code cell.\n",
    "    \n",
    "In other cases it is preferrable to use `display()` instead of `print()`. Then dataframe will be shown in a table format, which is much easier to read."
   ]
  },
  {
   "cell_type": "code",
   "execution_count": 20,
   "id": "128dc6a9",
   "metadata": {
    "scrolled": true
   },
   "outputs": [
    {
     "name": "stdout",
     "output_type": "stream",
     "text": [
      "                      name             character      role  \\\n",
      "163         Graham Chapman               Various     ACTOR   \n",
      "164          Michael Palin  Various / \"It's\" man     ACTOR   \n",
      "165            Terry Jones               Various     ACTOR   \n",
      "166              Eric Idle               Various     ACTOR   \n",
      "167          Terry Gilliam               Various     ACTOR   \n",
      "...                    ...                   ...       ...   \n",
      "85433     Maneerat Kam-Uan                    Ae     ACTOR   \n",
      "85434    Rudklao Amratisha               unknown     ACTOR   \n",
      "85435      Jaturong Mokjok               unknown     ACTOR   \n",
      "85436     Pisamai Wilaisak               unknown     ACTOR   \n",
      "85437  Sarawut Wichiensarn               unknown  DIRECTOR   \n",
      "\n",
      "                              title  type  release_year  \\\n",
      "163    Monty Python's Flying Circus  SHOW          1969   \n",
      "164    Monty Python's Flying Circus  SHOW          1969   \n",
      "165    Monty Python's Flying Circus  SHOW          1969   \n",
      "166    Monty Python's Flying Circus  SHOW          1969   \n",
      "167    Monty Python's Flying Circus  SHOW          1969   \n",
      "...                             ...   ...           ...   \n",
      "85433                     Let's Eat  SHOW          2021   \n",
      "85434                     Let's Eat  SHOW          2021   \n",
      "85435                     Let's Eat  SHOW          2021   \n",
      "85436                     Let's Eat  SHOW          2021   \n",
      "85437                     Let's Eat  SHOW          2021   \n",
      "\n",
      "                       genres  imdb_score  imdb_votes  \n",
      "163    ['comedy', 'european']         8.8     73424.0  \n",
      "164    ['comedy', 'european']         8.8     73424.0  \n",
      "165    ['comedy', 'european']         8.8     73424.0  \n",
      "166    ['comedy', 'european']         8.8     73424.0  \n",
      "167    ['comedy', 'european']         8.8     73424.0  \n",
      "...                       ...         ...         ...  \n",
      "85433     ['drama', 'comedy']         8.2         5.0  \n",
      "85434     ['drama', 'comedy']         8.2         5.0  \n",
      "85435     ['drama', 'comedy']         8.2         5.0  \n",
      "85436     ['drama', 'comedy']         8.2         5.0  \n",
      "85437     ['drama', 'comedy']         8.2         5.0  \n",
      "\n",
      "[13604 rows x 9 columns]\n"
     ]
    }
   ],
   "source": [
    "# repeat conditional indexing so df has only shows (movies are removed as result)\n",
    "shows_only = df[df['type'] == 'SHOW']\n",
    "print(shows_only)"
   ]
  },
  {
   "cell_type": "markdown",
   "id": "d0ffa8f6",
   "metadata": {},
   "source": [
    "<div class=\"alert alert-warning\"; style=\"border-left: 7px solid gold\">\n",
    "<b>⚠️ Reviewer's comment, v. 1</b> \n",
    "\n",
    "You don't have to filter the dataframe for SHOWs again, as you already did it in the previous code cell. (The cell was here because it was expected that in the previous cell you filter dataframe for time period and in the above cell to filter for the certain type.)"
   ]
  },
  {
   "cell_type": "markdown",
   "id": "9648040c",
   "metadata": {},
   "source": [
    "The scores that are to be grouped should be rounded. For instance, titles with scores like 7.8, 8.1, and 8.3 will all be placed in the same bucket with a score of 8."
   ]
  },
  {
   "cell_type": "code",
   "execution_count": 21,
   "id": "54bbd5c0",
   "metadata": {},
   "outputs": [
    {
     "name": "stdout",
     "output_type": "stream",
     "text": [
      "                     name     character      role    title       type  \\\n",
      "85573       A??da Morales       Maritza     ACTOR  Lokillo  the movie   \n",
      "85574    Adelaida Buscato    Mar??a Paz     ACTOR  Lokillo  the movie   \n",
      "85575  Luz Stella Luengas  Karen Bayona     ACTOR  Lokillo  the movie   \n",
      "85576        In??s Prieto         Fanny     ACTOR  Lokillo  the movie   \n",
      "85578      Julian Gaviria       unknown  DIRECTOR  Lokillo  the movie   \n",
      "\n",
      "       release_year      genres  imdb_score  imdb_votes  \n",
      "85573          2021  ['comedy']         3.8        68.0  \n",
      "85574          2021  ['comedy']         3.8        68.0  \n",
      "85575          2021  ['comedy']         3.8        68.0  \n",
      "85576          2021  ['comedy']         3.8        68.0  \n",
      "85578          2021  ['comedy']         3.8        68.0  \n"
     ]
    }
   ],
   "source": [
    "# rounding column with scores\n",
    "df['imdb_score'] = df['imdb_score'].round(2)\n",
    "#checking the outcome with tail()\n",
    "print(df.tail())"
   ]
  },
  {
   "cell_type": "markdown",
   "id": "6ab55395",
   "metadata": {},
   "source": [
    "<div class=\"alert alert-danger\"; style=\"border-left: 7px solid red\">\n",
    "<b>⛔️ Reviewer's comment, v. 1</b> \n",
    "\n",
    "Please round the scores here to integer numbers, with 0 decimals.\n",
    "    \n",
    "The results below will change after you've changed the rounding. I'll review the rest later."
   ]
  },
  {
   "cell_type": "markdown",
   "id": "36dbd00a",
   "metadata": {},
   "source": [
    "It is now time to identify outliers based on the number of votes."
   ]
  },
  {
   "cell_type": "code",
   "execution_count": 22,
   "id": "b8b55e95",
   "metadata": {},
   "outputs": [
    {
     "name": "stdout",
     "output_type": "stream",
     "text": [
      "imdb_score\n",
      "1.5    10\n",
      "1.6     9\n",
      "1.7    14\n",
      "1.9    12\n",
      "2.0    27\n",
      "       ..\n",
      "9.0    38\n",
      "9.1    17\n",
      "9.2    19\n",
      "9.3    12\n",
      "9.5     8\n",
      "Length: 78, dtype: int64\n"
     ]
    }
   ],
   "source": [
    "# Use groupby() for scores and count all unique values in each group, print the result\n",
    "score_counts = df.groupby('imdb_score').size()\n",
    "print(score_counts)"
   ]
  },
  {
   "cell_type": "markdown",
   "id": "1ba6daae",
   "metadata": {},
   "source": [
    "Based on the aggregation performed, it is evident that scores 2 (24 voted shows), 3 (27 voted shows), and 10 (only 8 voted shows) are outliers. There isn't enough data for these scores for the average number of votes to be meaningful."
   ]
  },
  {
   "cell_type": "markdown",
   "id": "bd468c46",
   "metadata": {},
   "source": [
    "To obtain the mean numbers of votes for the selected scores (we identified a range of 4-9 as acceptable), use conditional filtering and grouping."
   ]
  },
  {
   "cell_type": "code",
   "execution_count": 23,
   "id": "d1867e0e",
   "metadata": {},
   "outputs": [
    {
     "name": "stdout",
     "output_type": "stream",
     "text": [
      "    imdb_score    imdb_votes\n",
      "0          4.0  1.083360e+04\n",
      "1          4.1  3.974943e+03\n",
      "2          4.2  3.435804e+03\n",
      "3          4.3  1.224099e+04\n",
      "4          4.4  6.517818e+03\n",
      "5          4.5  1.259273e+04\n",
      "6          4.6  5.528028e+03\n",
      "7          4.7  6.508528e+03\n",
      "8          4.8  1.672401e+04\n",
      "9          4.9  6.278013e+03\n",
      "10         5.0  7.396346e+03\n",
      "11         5.1  2.717094e+04\n",
      "12         5.2  1.447588e+04\n",
      "13         5.3  1.002977e+04\n",
      "14         5.4  1.845894e+04\n",
      "15         5.5  1.468271e+04\n",
      "16         5.6  1.501672e+04\n",
      "17         5.7  2.650358e+04\n",
      "18         5.8  1.169624e+04\n",
      "19         5.9  1.795570e+04\n",
      "20         6.0  2.509318e+04\n",
      "21         6.1  3.504980e+04\n",
      "22         6.2  2.840788e+04\n",
      "23         6.3  2.968597e+04\n",
      "24         6.4  3.822340e+04\n",
      "25         6.5  5.779703e+04\n",
      "26         6.6  3.485852e+04\n",
      "27         6.7  3.555035e+04\n",
      "28         6.8  5.539657e+04\n",
      "29         6.9  4.207586e+04\n",
      "30         7.0  4.290969e+04\n",
      "31         7.1  6.408959e+04\n",
      "32         7.2  7.010848e+04\n",
      "33         7.3  7.226609e+04\n",
      "34         7.4  6.971645e+04\n",
      "35         7.5  8.845564e+04\n",
      "36         7.6  6.883955e+04\n",
      "37         7.7  1.092202e+05\n",
      "38         7.8  1.302184e+05\n",
      "39         7.9  1.778804e+05\n",
      "40         8.0  1.838883e+05\n",
      "41         8.1  1.836756e+05\n",
      "42         8.2  1.163891e+05\n",
      "43         8.3  1.857554e+05\n",
      "44         8.4  5.406499e+05\n",
      "45         8.5  4.117510e+05\n",
      "46         8.6  3.177121e+05\n",
      "47         8.7  5.773859e+05\n",
      "48         8.8  1.141579e+06\n",
      "49         8.9  7.072826e+04\n",
      "50         9.0  1.537102e+05\n"
     ]
    }
   ],
   "source": [
    "# filter dataframe using two conditions (scores to be in the range 4-9)\n",
    "filtered_df = df[(df['imdb_score'] >= 4) & (df['imdb_score'] <= 9)]\n",
    "# group scores and corresponding average number of votes, reset index and print the result\n",
    "score_avg_votes = filtered_df.groupby('imdb_score')['imdb_votes'].mean().reset_index()\n",
    "print(score_avg_votes)"
   ]
  },
  {
   "cell_type": "markdown",
   "id": "96a66d14",
   "metadata": {},
   "source": [
    "Now for the final step! Round the column with the averages, rename both columns, and print the dataframe in descending order."
   ]
  },
  {
   "cell_type": "code",
   "execution_count": 24,
   "id": "5999051b",
   "metadata": {},
   "outputs": [
    {
     "name": "stdout",
     "output_type": "stream",
     "text": [
      "    imdb_score  average_votes\n",
      "48         8.8      1141579.0\n",
      "47         8.7       577386.0\n",
      "44         8.4       540650.0\n",
      "45         8.5       411751.0\n",
      "46         8.6       317712.0\n",
      "43         8.3       185755.0\n",
      "40         8.0       183888.0\n",
      "41         8.1       183676.0\n",
      "39         7.9       177880.0\n",
      "50         9.0       153710.0\n",
      "38         7.8       130218.0\n",
      "42         8.2       116389.0\n",
      "37         7.7       109220.0\n",
      "35         7.5        88456.0\n",
      "33         7.3        72266.0\n",
      "49         8.9        70728.0\n",
      "32         7.2        70108.0\n",
      "34         7.4        69716.0\n",
      "36         7.6        68840.0\n",
      "31         7.1        64090.0\n",
      "25         6.5        57797.0\n",
      "28         6.8        55397.0\n",
      "30         7.0        42910.0\n",
      "29         6.9        42076.0\n",
      "24         6.4        38223.0\n",
      "27         6.7        35550.0\n",
      "21         6.1        35050.0\n",
      "26         6.6        34859.0\n",
      "23         6.3        29686.0\n",
      "22         6.2        28408.0\n",
      "11         5.1        27171.0\n",
      "17         5.7        26504.0\n",
      "20         6.0        25093.0\n",
      "14         5.4        18459.0\n",
      "19         5.9        17956.0\n",
      "8          4.8        16724.0\n",
      "16         5.6        15017.0\n",
      "15         5.5        14683.0\n",
      "12         5.2        14476.0\n",
      "5          4.5        12593.0\n",
      "3          4.3        12241.0\n",
      "18         5.8        11696.0\n",
      "0          4.0        10834.0\n",
      "13         5.3        10030.0\n",
      "10         5.0         7396.0\n",
      "4          4.4         6518.0\n",
      "7          4.7         6509.0\n",
      "9          4.9         6278.0\n",
      "6          4.6         5528.0\n",
      "1          4.1         3975.0\n",
      "2          4.2         3436.0\n"
     ]
    }
   ],
   "source": [
    "# round column with averages\n",
    "score_avg_votes['imdb_votes'] = score_avg_votes['imdb_votes'].round()\n",
    "# rename columns\n",
    "score_avg_votes.columns = ['imdb_score', 'average_votes']\n",
    "# print dataframe in descending order\n",
    "print(score_avg_votes.sort_values(by='average_votes', ascending=False))"
   ]
  },
  {
   "cell_type": "markdown",
   "id": "af07386d",
   "metadata": {},
   "source": [
    "The assumption macthes the analysis: the shows with the top 3 scores have the most amounts of votes."
   ]
  },
  {
   "cell_type": "markdown",
   "id": "84e29a37",
   "metadata": {},
   "source": [
    "## Conclusion <a id='hypotheses'></a>"
   ]
  },
  {
   "cell_type": "markdown",
   "id": "984766a3",
   "metadata": {},
   "source": [
    "The research done confirms that highly-rated shows released during the \"Golden Age\" of television also have the most votes. While shows with score 4 have more votes than ones with scores 5 and 6, the top three (scores 7-9) have the largest number. The data studied represents around 94% of the original set, so we can be confident in our findings."
   ]
  },
  {
   "cell_type": "markdown",
   "id": "8c140e52",
   "metadata": {},
   "source": [
    "<div class=\"alert alert-success\"; style=\"border-left: 7px solid green\">\n",
    "<b>✅ Reviewer's comment, v. 1</b> \n",
    "    \n",
    "Overall conclusion is an important part, where we should include the summary of the outcomes of the project.\n",
    "    \n",
    "Please note that you will need to write one for every project you make."
   ]
  }
 ],
 "metadata": {
  "kernelspec": {
   "display_name": "Python 3 (ipykernel)",
   "language": "python",
   "name": "python3"
  },
  "language_info": {
   "codemirror_mode": {
    "name": "ipython",
    "version": 3
   },
   "file_extension": ".py",
   "mimetype": "text/x-python",
   "name": "python",
   "nbconvert_exporter": "python",
   "pygments_lexer": "ipython3",
   "version": "3.9.19"
  },
  "toc": {
   "base_numbering": 1,
   "nav_menu": {},
   "number_sections": true,
   "sideBar": true,
   "skip_h1_title": true,
   "title_cell": "Table of Contents",
   "title_sidebar": "Contents",
   "toc_cell": false,
   "toc_position": {},
   "toc_section_display": true,
   "toc_window_display": false
  }
 },
 "nbformat": 4,
 "nbformat_minor": 5
}
